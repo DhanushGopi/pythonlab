{
 "cells": [
  {
   "cell_type": "markdown",
   "id": "e240643a",
   "metadata": {},
   "source": [
    "Write a Python Code to print the number as PRIME or NOT from 1 to n using FUNCTION prime(). Raise exception when “n” is not a number."
   ]
  },
  {
   "cell_type": "code",
   "execution_count": 15,
   "id": "d04de1ba",
   "metadata": {},
   "outputs": [
    {
     "name": "stdout",
     "output_type": "stream",
     "text": [
      "enter the number:90\n",
      "the Prime number [3, 5, 7, 9, 11, 13, 15, 17, 19, 21, 23, 25, 27, 29, 31, 33, 35, 37, 39, 41, 43, 45, 47, 49, 51, 53, 55, 57, 59, 61, 63, 65, 67, 69, 71, 73, 75, 77, 79, 81, 83, 85, 87, 89]\n",
      "the Not Prime number [2, 4, 6, 8, 10, 12, 14, 16, 18, 20, 22, 24, 26, 28, 30, 32, 34, 36, 38, 40, 42, 44, 46, 48, 50, 52, 54, 56, 58, 60, 62, 64, 66, 68, 70, 72, 74, 76, 78, 80, 82, 84, 86, 88, 90]\n"
     ]
    }
   ],
   "source": [
    "try:\n",
    "    num = int(input(\"enter the number:\"))\n",
    "    \n",
    "    if (num < 0):\n",
    "        raise ValueError(\"num is not a number\") \n",
    "    \n",
    "    notprime = []\n",
    "    prime = []\n",
    "    \n",
    "    if (num > 1):\n",
    "        for i in range (1, num+1):\n",
    "            for j in range (2, i+1):\n",
    "                if i % j == 0:\n",
    "                    notprime.append(i)\n",
    "                    break\n",
    "                else:\n",
    "                    prime.append(i)\n",
    "                    break\n",
    "\n",
    "    print(\"the Prime number\", prime)\n",
    "    print(\"the Not Prime number\", notprime)\n",
    "except ValueError as nne:\n",
    "    print(\"Error:\", nne)\n",
    "    "
   ]
  },
  {
   "cell_type": "code",
   "execution_count": null,
   "id": "acc227d4",
   "metadata": {},
   "outputs": [],
   "source": []
  }
 ],
 "metadata": {
  "kernelspec": {
   "display_name": "Python 3 (ipykernel)",
   "language": "python",
   "name": "python3"
  },
  "language_info": {
   "codemirror_mode": {
    "name": "ipython",
    "version": 3
   },
   "file_extension": ".py",
   "mimetype": "text/x-python",
   "name": "python",
   "nbconvert_exporter": "python",
   "pygments_lexer": "ipython3",
   "version": "3.11.5"
  }
 },
 "nbformat": 4,
 "nbformat_minor": 5
}
