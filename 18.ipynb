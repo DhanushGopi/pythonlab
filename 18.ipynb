{
 "cells": [
  {
   "cell_type": "markdown",
   "id": "b053d91d",
   "metadata": {},
   "source": [
    "Create two sets named Deepak and Uma. The elements of Deepak are Python, Java, C, C++ while the\n",
    "elements of Uma are PHP, SQL, ASP.NET and C. Do the following:\n",
    "• Create the two sets and display them\n",
    "• Find the common languages between Deepak and Uma\n",
    "• List all the languages known by both of them\n",
    "• List the languages known by Deepak and not by Uma\n",
    "• List the languages known by Uma and not by Deepak\n",
    "• Add “Go” to Deepak\n",
    "• Remove “SQL” from Uma\n"
   ]
  },
  {
   "cell_type": "code",
   "execution_count": 2,
   "id": "1db7b129",
   "metadata": {},
   "outputs": [
    {
     "name": "stdout",
     "output_type": "stream",
     "text": [
      "Deepak  {'java', 'c', 'c++', 'python'}\n",
      "Uma {'sql', 'php', 'c', 'asp.net'}\n"
     ]
    }
   ],
   "source": [
    "deepak = {\"python\",\"java\",\"c\",\"c++\"}\n",
    "uma = {\"php\",\"asp.net\",\"sql\",\"c\"}\n",
    "print(\"Deepak \", deepak)\n",
    "print(\"Uma\", uma)"
   ]
  },
  {
   "cell_type": "code",
   "execution_count": 3,
   "id": "c583fed3",
   "metadata": {},
   "outputs": [
    {
     "name": "stdout",
     "output_type": "stream",
     "text": [
      "The common Language {'c'}\n"
     ]
    }
   ],
   "source": [
    "commonlang = deepak.intersection(uma)\n",
    "print(\"The common Language\", commonlang)"
   ]
  },
  {
   "cell_type": "code",
   "execution_count": 4,
   "id": "617fae53",
   "metadata": {},
   "outputs": [
    {
     "name": "stdout",
     "output_type": "stream",
     "text": [
      "The Know Languages {'sql', 'c++', 'python', 'c', 'php', 'java', 'asp.net'}\n"
     ]
    }
   ],
   "source": [
    "alllang = deepak.union(uma)\n",
    "print(\"The Know Languages\", alllang)"
   ]
  },
  {
   "cell_type": "code",
   "execution_count": 6,
   "id": "1a04b823",
   "metadata": {},
   "outputs": [
    {
     "name": "stdout",
     "output_type": "stream",
     "text": [
      "Deepak knows {'python', 'java', 'c++'}\n"
     ]
    }
   ],
   "source": [
    "deepakknows = deepak.difference(uma)\n",
    "print(\"Deepak knows\",deepakknows)"
   ]
  },
  {
   "cell_type": "code",
   "execution_count": 7,
   "id": "82aec23d",
   "metadata": {},
   "outputs": [
    {
     "name": "stdout",
     "output_type": "stream",
     "text": [
      "Uma Knows {'sql', 'php', 'asp.net'}\n"
     ]
    }
   ],
   "source": [
    "umaknows = uma.difference(deepak)\n",
    "print(\"Uma Knows\",umaknows)"
   ]
  },
  {
   "cell_type": "code",
   "execution_count": 11,
   "id": "e7222c9e",
   "metadata": {},
   "outputs": [
    {
     "name": "stdout",
     "output_type": "stream",
     "text": [
      "Deepak learned {'c++', 'python', 'c', 'java', 'go', 'GO'}\n"
     ]
    }
   ],
   "source": [
    "deepakadd = deepak.add(\"go\")\n",
    "print(\"Deepak learned\", deepak)"
   ]
  },
  {
   "cell_type": "code",
   "execution_count": 13,
   "id": "c9ef531c",
   "metadata": {},
   "outputs": [
    {
     "name": "stdout",
     "output_type": "stream",
     "text": [
      "Uma familiar with  {'php', 'c', 'asp.net'}\n"
     ]
    }
   ],
   "source": [
    "umaremoved = uma.remove(\"sql\")\n",
    "print(\"Uma familiar with \", uma )"
   ]
  },
  {
   "cell_type": "code",
   "execution_count": null,
   "id": "7ca280bf",
   "metadata": {},
   "outputs": [],
   "source": []
  }
 ],
 "metadata": {
  "kernelspec": {
   "display_name": "Python 3 (ipykernel)",
   "language": "python",
   "name": "python3"
  },
  "language_info": {
   "codemirror_mode": {
    "name": "ipython",
    "version": 3
   },
   "file_extension": ".py",
   "mimetype": "text/x-python",
   "name": "python",
   "nbconvert_exporter": "python",
   "pygments_lexer": "ipython3",
   "version": "3.11.5"
  }
 },
 "nbformat": 4,
 "nbformat_minor": 5
}
