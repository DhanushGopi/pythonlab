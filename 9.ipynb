{
 "cells": [
  {
   "cell_type": "markdown",
   "id": "a20daca9",
   "metadata": {},
   "source": [
    "A. Do the following dictionary operations:\n",
    "• Create a DICTIONARY MARKS with keys as names and values as marks (totally 5)\n",
    "• Displays keys and values separately\n",
    "• Display the student names who scores minimum and maximum marks\n",
    "• Sort the student names as per their marks scored\n",
    "• Modify the marks of a student and display it\n",
    "• Delete a student and display it\n",
    "• Show how many key-value pairs in the dictionary\n"
   ]
  },
  {
   "cell_type": "code",
   "execution_count": 8,
   "id": "6410c03a",
   "metadata": {},
   "outputs": [
    {
     "name": "stdout",
     "output_type": "stream",
     "text": [
      "The Dictionary {'a': 36, 'b': 25, 'c': 56, 'd': 77, 'e': 48}\n"
     ]
    }
   ],
   "source": [
    "mark = {'a':36,'b':25,'c':56,'d':77,'e':48}\n",
    "print(\"The Dictionary\",mark)"
   ]
  },
  {
   "cell_type": "code",
   "execution_count": 9,
   "id": "332007f8",
   "metadata": {},
   "outputs": [
    {
     "name": "stdout",
     "output_type": "stream",
     "text": [
      "The Keys ['a', 'b', 'c', 'd', 'e']\n",
      "The Values [36, 25, 56, 77, 48]\n"
     ]
    }
   ],
   "source": [
    "print(\"The Keys\",list(mark.keys()))\n",
    "print(\"The Values\",list(mark.values()))"
   ]
  },
  {
   "cell_type": "code",
   "execution_count": 25,
   "id": "8a9fd215",
   "metadata": {},
   "outputs": [
    {
     "name": "stdout",
     "output_type": "stream",
     "text": [
      "minscore b\n",
      "maxscore e\n"
     ]
    }
   ],
   "source": [
    "print(\"minscore\", min(mark, key=mark.get))\n",
    "print(\"maxscore\", max(mark, key=mark.get))"
   ]
  },
  {
   "cell_type": "code",
   "execution_count": 6,
   "id": "e39c566a",
   "metadata": {},
   "outputs": [
    {
     "name": "stdout",
     "output_type": "stream",
     "text": [
      "the Sorted Marks ['b', 'a', 'e', 'c', 'd']\n"
     ]
    }
   ],
   "source": [
    "print(\"the Sorted Marks\", sorted(mark, key=mark.get))"
   ]
  },
  {
   "cell_type": "code",
   "execution_count": 13,
   "id": "e177b2db",
   "metadata": {},
   "outputs": [
    {
     "name": "stdout",
     "output_type": "stream",
     "text": [
      "{'a': 36, 'b': 25, 'c': 56, 'd': 77, 'e': 90}\n"
     ]
    }
   ],
   "source": [
    "mark[\"e\"] = 90\n",
    "print(mark)"
   ]
  },
  {
   "cell_type": "code",
   "execution_count": 12,
   "id": "c7444e55",
   "metadata": {},
   "outputs": [
    {
     "name": "stdout",
     "output_type": "stream",
     "text": [
      "{'a': 36, 'b': 25, 'c': 56, 'd': 77, 'e': 90}\n"
     ]
    }
   ],
   "source": []
  },
  {
   "cell_type": "code",
   "execution_count": 14,
   "id": "ac9fc973",
   "metadata": {},
   "outputs": [
    {
     "name": "stdout",
     "output_type": "stream",
     "text": [
      "The Dict {'a': 36, 'b': 25, 'c': 56, 'e': 90}\n"
     ]
    }
   ],
   "source": [
    "mark.pop(\"d\")\n",
    "print(\"The Dict\",mark)"
   ]
  },
  {
   "cell_type": "code",
   "execution_count": 18,
   "id": "9c671a4d",
   "metadata": {},
   "outputs": [
    {
     "name": "stdout",
     "output_type": "stream",
     "text": [
      "The Length 4\n"
     ]
    }
   ],
   "source": [
    "print(\"The Length\", len(mark))"
   ]
  },
  {
   "cell_type": "code",
   "execution_count": null,
   "id": "47b904ba",
   "metadata": {},
   "outputs": [],
   "source": []
  }
 ],
 "metadata": {
  "kernelspec": {
   "display_name": "Python 3 (ipykernel)",
   "language": "python",
   "name": "python3"
  },
  "language_info": {
   "codemirror_mode": {
    "name": "ipython",
    "version": 3
   },
   "file_extension": ".py",
   "mimetype": "text/x-python",
   "name": "python",
   "nbconvert_exporter": "python",
   "pygments_lexer": "ipython3",
   "version": "3.11.5"
  }
 },
 "nbformat": 4,
 "nbformat_minor": 5
}
