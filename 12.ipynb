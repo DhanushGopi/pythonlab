{
 "cells": [
  {
   "cell_type": "markdown",
   "id": "ffe8fc9e",
   "metadata": {},
   "source": [
    "DO THE FOLLOWING STRING OPERATIONS:\n",
    "• Check whether the given string is palindrome or not using function check().\n",
    "• Find the length of the given string.\n",
    "• Check if the given two strings are equal or not.\n",
    "• Read the following paragraph.\n",
    "“Consider function f(n) the time complexity of an algorithm and g(n) is the most significant term. If f(n) <=\n",
    "C g(n) for all n >= 1, C > 0, then we can represent f(n) as O(g(n))”\n",
    "• count “the” in the above input string.\n",
    "• Count the number of uppercase letters, lowercase letters, numbers, special characters and spaces in the\n",
    "given text.\n",
    "• Toggle lowercase into uppercase and vice versa.\n"
   ]
  },
  {
   "cell_type": "code",
   "execution_count": 5,
   "id": "3919cc1e",
   "metadata": {},
   "outputs": [
    {
     "name": "stdout",
     "output_type": "stream",
     "text": [
      "Enter the stringhello\n",
      "the string is not palindrome\n"
     ]
    }
   ],
   "source": [
    "str = input(\"Enter the string\")\n",
    "\n",
    "if (str == str[::-1]):\n",
    "    print(\"the string is Palindrome\")\n",
    "else:\n",
    "    print(\"the string is not palindrome\")"
   ]
  },
  {
   "cell_type": "code",
   "execution_count": 6,
   "id": "aca5eb6e",
   "metadata": {},
   "outputs": [
    {
     "name": "stdout",
     "output_type": "stream",
     "text": [
      "The Length 5\n"
     ]
    }
   ],
   "source": [
    "print(\"The Length\", len(str))"
   ]
  },
  {
   "cell_type": "code",
   "execution_count": 7,
   "id": "44d5be5e",
   "metadata": {},
   "outputs": [
    {
     "name": "stdout",
     "output_type": "stream",
     "text": [
      "Equals\n"
     ]
    }
   ],
   "source": [
    "if str == \"hello\":\n",
    "    print(\"Equals\")\n",
    "else:\n",
    "    print(\"Not Equals\")"
   ]
  },
  {
   "cell_type": "code",
   "execution_count": 14,
   "id": "40a5cf39",
   "metadata": {},
   "outputs": [
    {
     "name": "stdout",
     "output_type": "stream",
     "text": [
      "The count of 'the' is 3\n"
     ]
    }
   ],
   "source": [
    "para = \"Consider function f(n) the time complexity of an algorithm and g(n) is the most significant term. If f(n) <=C g(n) for all n >= 1, C > 0, then we can represent f(n) as O(g(n))\"\n",
    "\n",
    "print(\"The count of 'the' is\",para.count(\"the\"))\n"
   ]
  },
  {
   "cell_type": "code",
   "execution_count": 17,
   "id": "95bbf12f",
   "metadata": {},
   "outputs": [
    {
     "name": "stdout",
     "output_type": "stream",
     "text": [
      "\n",
      " The upper 5 \n",
      " The lower 112 \n",
      " The Numbers 2 \n",
      " The Spaces 34 \n",
      " The Special 22\n"
     ]
    }
   ],
   "source": [
    "upper, lower, number, special, space = 0,0,0,0,0\n",
    "\n",
    "for i in para:\n",
    "    if i.isupper():\n",
    "        upper+=1\n",
    "    elif i.islower():\n",
    "        lower+=1\n",
    "    elif i.isdigit():\n",
    "        number+=1\n",
    "    elif i.isspace():\n",
    "        space+=1\n",
    "    else :\n",
    "        special+=1\n",
    "\n",
    "print(\"\\n The upper\",upper,\"\\n The lower\",lower,\"\\n The Numbers\",number,\"\\n The Spaces\",space,\"\\n The Special\",special)"
   ]
  },
  {
   "cell_type": "code",
   "execution_count": 18,
   "id": "4ffcc6ca",
   "metadata": {},
   "outputs": [
    {
     "name": "stdout",
     "output_type": "stream",
     "text": [
      "The Toogle cONSIDER FUNCTION F(N) THE TIME COMPLEXITY OF AN ALGORITHM AND G(N) IS THE MOST SIGNIFICANT TERM. iF F(N) <=c G(N) FOR ALL N >= 1, c > 0, THEN WE CAN REPRESENT F(N) AS o(G(N))\n"
     ]
    }
   ],
   "source": [
    "print(\"The Toogle\", para.swapcase())"
   ]
  },
  {
   "cell_type": "code",
   "execution_count": null,
   "id": "942703da",
   "metadata": {},
   "outputs": [],
   "source": []
  }
 ],
 "metadata": {
  "kernelspec": {
   "display_name": "Python 3 (ipykernel)",
   "language": "python",
   "name": "python3"
  },
  "language_info": {
   "codemirror_mode": {
    "name": "ipython",
    "version": 3
   },
   "file_extension": ".py",
   "mimetype": "text/x-python",
   "name": "python",
   "nbconvert_exporter": "python",
   "pygments_lexer": "ipython3",
   "version": "3.11.5"
  }
 },
 "nbformat": 4,
 "nbformat_minor": 5
}
