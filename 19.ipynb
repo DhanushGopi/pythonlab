{
 "cells": [
  {
   "cell_type": "markdown",
   "id": "e41caa6f",
   "metadata": {},
   "source": [
    "Write a Python Code to create a One-Dimensional numpy array of 5 elements using arange() function.\n",
    "\n",
    "Print its size, dimension and compute basic statistics on the created array. "
   ]
  },
  {
   "cell_type": "code",
   "execution_count": 4,
   "id": "caf1e277",
   "metadata": {},
   "outputs": [
    {
     "name": "stdout",
     "output_type": "stream",
     "text": [
      "The array [0 1 2 3 4]\n",
      "The Size  5\n",
      "The Dimension  1\n",
      "The Mean  2.0\n",
      "The Median  2.0\n",
      "The SD  1.4142135623730951\n",
      "The Variance  2.0\n"
     ]
    }
   ],
   "source": [
    "import numpy as np\n",
    "\n",
    "arr = np.arange(5)\n",
    "print(\"The array\", arr)\n",
    "print(\"The Size \", arr.size)\n",
    "print(\"The Dimension \", arr.ndim)\n",
    "\n",
    "print(\"The Mean \", np.mean(arr))\n",
    "print(\"The Median \", np.median(arr))\n",
    "print(\"The SD \", np.std(arr))\n",
    "print(\"The Variance \", np.var(arr))"
   ]
  },
  {
   "cell_type": "code",
   "execution_count": null,
   "id": "c9ec9f67",
   "metadata": {},
   "outputs": [],
   "source": []
  }
 ],
 "metadata": {
  "kernelspec": {
   "display_name": "Python 3 (ipykernel)",
   "language": "python",
   "name": "python3"
  },
  "language_info": {
   "codemirror_mode": {
    "name": "ipython",
    "version": 3
   },
   "file_extension": ".py",
   "mimetype": "text/x-python",
   "name": "python",
   "nbconvert_exporter": "python",
   "pygments_lexer": "ipython3",
   "version": "3.11.5"
  }
 },
 "nbformat": 4,
 "nbformat_minor": 5
}
