{
 "cells": [
  {
   "cell_type": "markdown",
   "id": "c784793d",
   "metadata": {},
   "source": [
    "Write a Python Code to print the list of perfect numbers from 1 to n using FUNCTION perfect(). The type of function is with arguments and no return type. "
   ]
  },
  {
   "cell_type": "code",
   "execution_count": 14,
   "id": "bbd2088e",
   "metadata": {},
   "outputs": [],
   "source": [
    "def perfectornot():\n",
    "    fromno = int(input(\"Start at \"))\n",
    "    tono = int(input(\"End at \"))\n",
    "    sum = 0\n",
    "    perfectlist=[]\n",
    "\n",
    "    for i in range(fromno,tono):\n",
    "        for j in range(1,i):\n",
    "            div = i%j\n",
    "            if(div == 0):\n",
    "                sum+=j\n",
    "\n",
    "        if(sum == i):\n",
    "            perfectlist.append(i)\n",
    "            sum = 0\n",
    "        else:\n",
    "            sum = 0\n",
    "    print(\"The Perfect Number are\", perfectlist)"
   ]
  },
  {
   "cell_type": "code",
   "execution_count": 15,
   "id": "5caae172",
   "metadata": {},
   "outputs": [
    {
     "name": "stdout",
     "output_type": "stream",
     "text": [
      "Start at 1\n",
      "End at 100\n",
      "The Perfect Number are [6, 28]\n"
     ]
    }
   ],
   "source": [
    "perfectornot()\n"
   ]
  },
  {
   "cell_type": "code",
   "execution_count": null,
   "id": "a9864ca7",
   "metadata": {},
   "outputs": [],
   "source": []
  }
 ],
 "metadata": {
  "kernelspec": {
   "display_name": "Python 3 (ipykernel)",
   "language": "python",
   "name": "python3"
  },
  "language_info": {
   "codemirror_mode": {
    "name": "ipython",
    "version": 3
   },
   "file_extension": ".py",
   "mimetype": "text/x-python",
   "name": "python",
   "nbconvert_exporter": "python",
   "pygments_lexer": "ipython3",
   "version": "3.11.5"
  }
 },
 "nbformat": 4,
 "nbformat_minor": 5
}
