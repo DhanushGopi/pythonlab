{
 "cells": [
  {
   "cell_type": "markdown",
   "id": "4dbe11f4",
   "metadata": {},
   "source": [
    "DO THE FOLLOWING LIST OPERATIONS:\n",
    "• Create a list mylist.\n",
    "• Read 10 numbers from user and add to the list.\n",
    "• Sort mylist in both ascending and descending order.\n",
    "• Create two lists L1 and L2 having numbers divisible by 3 and not divisible by 3 respectively.\n",
    "• Check the number is divisible by 3 or not using a function func().\n",
    "• Remove the biggest number from L1 and the smallest number from L2."
   ]
  },
  {
   "cell_type": "code",
   "execution_count": null,
   "id": "41c18303",
   "metadata": {},
   "outputs": [],
   "source": [
    "mylist=[]"
   ]
  },
  {
   "cell_type": "code",
   "execution_count": 9,
   "id": "b42dc131",
   "metadata": {},
   "outputs": [],
   "source": [
    "def listgene():\n",
    "    listofno = []\n",
    "    nnumber = int(input(\"Enter the number\"))\n",
    "    for i in range(1,nnumber+1):\n",
    "        value = int(input(\"Enter the value\"))\n",
    "        listofno.append(value)\n",
    "    return listofno"
   ]
  },
  {
   "cell_type": "code",
   "execution_count": 11,
   "id": "478cd8cc",
   "metadata": {},
   "outputs": [
    {
     "name": "stdout",
     "output_type": "stream",
     "text": [
      "Enter the number5\n",
      "Enter the value12\n",
      "Enter the value23\n",
      "Enter the value32\n",
      "Enter the value453\n",
      "Enter the value12\n",
      "[12, 23, 32, 453, 12]\n"
     ]
    }
   ],
   "source": [
    "mylist = listgene()\n",
    "print(mylist)"
   ]
  },
  {
   "cell_type": "code",
   "execution_count": 12,
   "id": "af81ec18",
   "metadata": {},
   "outputs": [
    {
     "name": "stdout",
     "output_type": "stream",
     "text": [
      "The Ascending order [12, 12, 23, 32, 453]\n",
      "The Descending Order [453, 32, 23, 12, 12]\n"
     ]
    }
   ],
   "source": [
    "asc = sorted(mylist)\n",
    "print(\"The Ascending order\", asc)\n",
    "desc = sorted(mylist, reverse=True)\n",
    "print(\"The Descending Order\", desc)"
   ]
  },
  {
   "cell_type": "code",
   "execution_count": 13,
   "id": "2a25e25c",
   "metadata": {},
   "outputs": [
    {
     "name": "stdout",
     "output_type": "stream",
     "text": [
      "The Divisible list of 3 [12, 453, 12]\n",
      "The Not Divisible list of 3  [23, 32]\n"
     ]
    }
   ],
   "source": [
    "divthree = []\n",
    "notdivthree = []\n",
    "for i in mylist:\n",
    "    if (i%3==0):\n",
    "        divthree.append(i)\n",
    "    else:\n",
    "        notdivthree.append(i)\n",
    "\n",
    "print(\"The Divisible list of 3\", divthree)\n",
    "print(\"The Not Divisible list of 3 \", notdivthree)"
   ]
  },
  {
   "cell_type": "code",
   "execution_count": 14,
   "id": "9ccadbbd",
   "metadata": {},
   "outputs": [],
   "source": [
    "def func(number):\n",
    "    if number%3 == 0:\n",
    "        return (\"the divisible of three\")\n",
    "    else :\n",
    "        return (\"the divisible of three is not\")"
   ]
  },
  {
   "cell_type": "code",
   "execution_count": 17,
   "id": "7d3269fc",
   "metadata": {},
   "outputs": [
    {
     "name": "stdout",
     "output_type": "stream",
     "text": [
      "Enter the number9\n"
     ]
    },
    {
     "data": {
      "text/plain": [
       "'the divisible of three'"
      ]
     },
     "execution_count": 17,
     "metadata": {},
     "output_type": "execute_result"
    }
   ],
   "source": [
    "func(int(input(\"Enter the number\")))"
   ]
  },
  {
   "cell_type": "code",
   "execution_count": null,
   "id": "44a244f3",
   "metadata": {},
   "outputs": [],
   "source": [
    "l1 = [1,2,3,4,5]\n",
    "l2 =[1,2,3,4,5]\n",
    "\n",
    "print(\"Removing max in l1 : \",l1.remove(max(l1)))\n",
    "print(l2.remove(min(l2)))"
   ]
  }
 ],
 "metadata": {
  "kernelspec": {
   "display_name": "Python 3 (ipykernel)",
   "language": "python",
   "name": "python3"
  },
  "language_info": {
   "codemirror_mode": {
    "name": "ipython",
    "version": 3
   },
   "file_extension": ".py",
   "mimetype": "text/x-python",
   "name": "python",
   "nbconvert_exporter": "python",
   "pygments_lexer": "ipython3",
   "version": "3.11.5"
  }
 },
 "nbformat": 4,
 "nbformat_minor": 5
}
