{
 "cells": [
  {
   "cell_type": "markdown",
   "id": "b7ef35d6",
   "metadata": {},
   "source": [
    "A. Write a Python Code to print the nature of roots of a quadratic equation using FUNCTION. The type of function is with arguments and with return type. "
   ]
  },
  {
   "cell_type": "code",
   "execution_count": 8,
   "id": "ee80d7e0",
   "metadata": {},
   "outputs": [],
   "source": [
    "def quadequation(a,b,c):\n",
    "    if a!=0:\n",
    "        d = (b**2)-(4*a*c)\n",
    "        if d == 0:\n",
    "            sol = -b / (2*a)\n",
    "            return (sol)\n",
    "        elif d > 0:\n",
    "            solpos = -(b + (d ** 0.5)) / (2*a)\n",
    "            solneg = -(b - (d ** 0.5)) / (2*a)\n",
    "            return (solpos, solneg)\n",
    "        else:\n",
    "            return (\"It's a complex number\")\n",
    "    else:\n",
    "        return(\"The given number is Quadratic\")"
   ]
  },
  {
   "cell_type": "code",
   "execution_count": 9,
   "id": "829c3c02",
   "metadata": {},
   "outputs": [
    {
     "name": "stdout",
     "output_type": "stream",
     "text": [
      "the number is b^2 : 1\n",
      "the number is a : -6\n",
      "the number is c : -16\n",
      "the Quadratic Equation is (-2.0, 8.0)\n"
     ]
    }
   ],
   "source": [
    "no1 = int(input(\"the number is b^2 : \"))\n",
    "no2 = int(input(\"the number is a : \"))\n",
    "no3 = int(input(\"the number is c : \"))\n",
    "answer = quadequation(no1,no2,no3)\n",
    "print(\"the Quadratic Equation is\", answer)"
   ]
  },
  {
   "cell_type": "code",
   "execution_count": null,
   "id": "730fafcb",
   "metadata": {},
   "outputs": [],
   "source": []
  }
 ],
 "metadata": {
  "kernelspec": {
   "display_name": "Python 3 (ipykernel)",
   "language": "python",
   "name": "python3"
  },
  "language_info": {
   "codemirror_mode": {
    "name": "ipython",
    "version": 3
   },
   "file_extension": ".py",
   "mimetype": "text/x-python",
   "name": "python",
   "nbconvert_exporter": "python",
   "pygments_lexer": "ipython3",
   "version": "3.11.5"
  }
 },
 "nbformat": 4,
 "nbformat_minor": 5
}
