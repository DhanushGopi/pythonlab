{
 "cells": [
  {
   "cell_type": "markdown",
   "id": "79080f39",
   "metadata": {},
   "source": [
    "Write a Python Code to solve the following simultaneous equations using Scipy:\n",
    "x+y+z=2\n",
    "6x−4y+5z=31\n",
    "5x+2y+2z=13\n",
    "Also find the determinant for the following matrix:\n",
    "4 -3 0\n",
    "2 -1 -2\n",
    "1 5 7"
   ]
  },
  {
   "cell_type": "code",
   "execution_count": 3,
   "id": "06539a48",
   "metadata": {},
   "outputs": [
    {
     "name": "stdout",
     "output_type": "stream",
     "text": [
      "The solution [ 3. -2.  1.]\n"
     ]
    }
   ],
   "source": [
    "from scipy.linalg import solve\n",
    "\n",
    "co = [[1,1,1],[6,-4,5],[5,2,2]]\n",
    "\n",
    "const = [2,31,13]\n",
    "\n",
    "print(\"The solution\", solve(co, const))"
   ]
  },
  {
   "cell_type": "code",
   "execution_count": 2,
   "id": "0da6710b",
   "metadata": {},
   "outputs": [
    {
     "name": "stdout",
     "output_type": "stream",
     "text": [
      "The Determinant is 59.999999999999986\n"
     ]
    }
   ],
   "source": [
    "import numpy as np\n",
    "\n",
    "matrix = np.array([[4,-3,0],[2,-1,-2],[1,5,7]])\n",
    "\n",
    "determinant = np.linalg.det(matrix)\n",
    "\n",
    "print(\"The Determinant is\", determinant)"
   ]
  },
  {
   "cell_type": "code",
   "execution_count": null,
   "id": "8399dea0",
   "metadata": {},
   "outputs": [],
   "source": []
  }
 ],
 "metadata": {
  "kernelspec": {
   "display_name": "Python 3 (ipykernel)",
   "language": "python",
   "name": "python3"
  },
  "language_info": {
   "codemirror_mode": {
    "name": "ipython",
    "version": 3
   },
   "file_extension": ".py",
   "mimetype": "text/x-python",
   "name": "python",
   "nbconvert_exporter": "python",
   "pygments_lexer": "ipython3",
   "version": "3.11.5"
  }
 },
 "nbformat": 4,
 "nbformat_minor": 5
}
