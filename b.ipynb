{
 "cells": [
  {
   "cell_type": "markdown",
   "id": "13ef2207",
   "metadata": {},
   "source": [
    "2. Write a Python Code to create a table named “STUDENT” in MySQL with fields snum, sname, m1, m2 and total and also perform insert, update,delete and select rows in the table. "
   ]
  },
  {
   "cell_type": "code",
   "execution_count": 2,
   "id": "5db65ec2",
   "metadata": {},
   "outputs": [
    {
     "name": "stdout",
     "output_type": "stream",
     "text": [
      "Requirement already satisfied: mysql-connector-python in c:\\users\\gdhan\\anaconda3\\lib\\site-packages (8.3.0)\n",
      "Note: you may need to restart the kernel to use updated packages.\n"
     ]
    }
   ],
   "source": [
    "pip install mysql-connector-python"
   ]
  },
  {
   "cell_type": "code",
   "execution_count": 30,
   "id": "ec504d6f",
   "metadata": {},
   "outputs": [
    {
     "name": "stdout",
     "output_type": "stream",
     "text": [
      "1-CREATE TABLE \t 2-INSERT ROW \t 3-UPDATE ROWS \t 4-DELETE ROWS \t 5-DISPLAY \t 6-EXIT\n",
      "\n",
      " Enter the Option : 5\n",
      "(37107, 'dhanush', 50, 50, 100)\n",
      "(37107, 'Dhanush', 50, 50, 100)\n",
      "(37106, 'bhavesh', 40, 40, 80)\n",
      "3 Rows Displayed\n",
      "1-CREATE TABLE \t 2-INSERT ROW \t 3-UPDATE ROWS \t 4-DELETE ROWS \t 5-DISPLAY \t 6-EXIT\n",
      "\n",
      " Enter the Option : 6\n",
      "Exited\n"
     ]
    }
   ],
   "source": [
    "import mysql.connector as sql\n",
    "\n",
    "db = sql.connect(host=\"localhost\", user = \"root\", password = \"dansu159\", database = \"db\")\n",
    "c = db.cursor()\n",
    "\n",
    "while (True):\n",
    "    print (\"1-CREATE TABLE \\t 2-INSERT ROW \\t 3-UPDATE ROWS \\t 4-DELETE ROWS \\t 5-DISPLAY \\t 6-EXIT\")\n",
    "    \n",
    "    opt = int(input(\"\\n Enter the Option : \"))\n",
    "    if opt == 1:\n",
    "        c.execute(\"Create table if not exists student(snum int, sname varchar(20), m1 int, m2 int, total int)\")\n",
    "        print(\"\\t \\t Table Created\")\n",
    "        \n",
    "    elif opt ==2 :\n",
    "        v1 = int(input(\"Enter the snum : \"))\n",
    "        v2 = input(\"Enter the sname : \")\n",
    "        v3 = int(input(\"Enter the m1 : \"))\n",
    "        v4 = int(input(\"Enter the m2 : \"))\n",
    "        v5 = v3 + v4\n",
    "        v = [v1,v2,v3,v4,v5]\n",
    "        sqlinsert=\"Insert into student (snum, sname, m1, m2, total) values(%s,%s,%s,%s,%s)\"\n",
    "        c.execute(sqlinsert,v)\n",
    "        db.commit()\n",
    "        print(c.rowcount, \"Row Inserted\")        \n",
    "    \n",
    "    elif opt == 3 :\n",
    "        v1 = int(input(\"Enter the snum to update : \"))\n",
    "        v3 = int(input(\"Enter the m1 : \"))\n",
    "        v4 = int(input(\"Enter the m2 : \"))\n",
    "        v5 = v3 + v4\n",
    "        v = [v3,v4,v5,v1]\n",
    "        sqlupdate = \"Update student SET m1 = %s , m2 = %s, total = %s where snum = %s\"\n",
    "        c.execute(sqlupdate,v)\n",
    "        db.commit()\n",
    "        print(c.rowcount,\"Rows Updated \\n\")\n",
    "    elif opt == 4:\n",
    "        v1 = input(\"Enter the snum to Delete:\")\n",
    "        va = (v1,)\n",
    "        sqldelete = \"DELETE FROM student WHERE snum = %s\"\n",
    "        c.execute(sqldelete,va)\n",
    "        db.commit()\n",
    "        print(c.rowcount, \"Deleted\")\n",
    "    elif opt == 5:\n",
    "        c.execute(\"Select * from student\")\n",
    "        temp = c.fetchall()\n",
    "        for i in temp:\n",
    "            print(i)\n",
    "        print(c.rowcount,\"Rows Displayed\")\n",
    "    else:\n",
    "        db.close()\n",
    "        print(\"Exited\")\n",
    "        break\n"
   ]
  },
  {
   "cell_type": "code",
   "execution_count": null,
   "id": "d1b11eb4",
   "metadata": {},
   "outputs": [],
   "source": []
  },
  {
   "cell_type": "code",
   "execution_count": null,
   "id": "133f7782",
   "metadata": {},
   "outputs": [],
   "source": []
  }
 ],
 "metadata": {
  "kernelspec": {
   "display_name": "Python 3 (ipykernel)",
   "language": "python",
   "name": "python3"
  },
  "language_info": {
   "codemirror_mode": {
    "name": "ipython",
    "version": 3
   },
   "file_extension": ".py",
   "mimetype": "text/x-python",
   "name": "python",
   "nbconvert_exporter": "python",
   "pygments_lexer": "ipython3",
   "version": "3.11.5"
  }
 },
 "nbformat": 4,
 "nbformat_minor": 5
}
