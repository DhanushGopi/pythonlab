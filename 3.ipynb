{
 "cells": [
  {
   "cell_type": "markdown",
   "id": "aa9c399b",
   "metadata": {},
   "source": [
    "3. Write a Python Code to reverse the given number and also find the sum of its digits using FUNCTION reverse(). Let the function be without arguments and without return value."
   ]
  },
  {
   "cell_type": "code",
   "execution_count": 2,
   "id": "e266ce55",
   "metadata": {},
   "outputs": [],
   "source": [
    "def sumofthereverseddigits():\n",
    "    num = int(input(\"Enter a number\"))\n",
    "    revvar = 0\n",
    "    sumvar = 0\n",
    "    while (num != 0):\n",
    "        lastdigit = num % 10\n",
    "        revvar = revvar * 10 + lastdigit\n",
    "        num = num // 10\n",
    "        sumvar += lastdigit\n",
    "    print(\"The Reveresed Number\", revvar)\n",
    "    print(\"The Sum of the Digits\", sumvar)"
   ]
  },
  {
   "cell_type": "code",
   "execution_count": 3,
   "id": "288e407a",
   "metadata": {},
   "outputs": [
    {
     "name": "stdout",
     "output_type": "stream",
     "text": [
      "Enter a number5678\n",
      "The Reveresed Number 8765\n",
      "The Sum of the Digits 26\n"
     ]
    }
   ],
   "source": [
    "sumofthereverseddigits()"
   ]
  },
  {
   "cell_type": "code",
   "execution_count": null,
   "id": "3145309e",
   "metadata": {},
   "outputs": [],
   "source": []
  }
 ],
 "metadata": {
  "kernelspec": {
   "display_name": "Python 3 (ipykernel)",
   "language": "python",
   "name": "python3"
  },
  "language_info": {
   "codemirror_mode": {
    "name": "ipython",
    "version": 3
   },
   "file_extension": ".py",
   "mimetype": "text/x-python",
   "name": "python",
   "nbconvert_exporter": "python",
   "pygments_lexer": "ipython3",
   "version": "3.11.5"
  }
 },
 "nbformat": 4,
 "nbformat_minor": 5
}
