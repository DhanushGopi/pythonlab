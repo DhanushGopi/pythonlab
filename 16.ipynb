{
 "cells": [
  {
   "cell_type": "markdown",
   "id": "e4702de9",
   "metadata": {},
   "source": [
    "16. Write a Python Code to create two matrices using numpy of order 3x3, compute matrix addition and matrix multiplication and display the results accordingly using nditer method. "
   ]
  },
  {
   "cell_type": "code",
   "execution_count": 8,
   "id": "77d293b4",
   "metadata": {},
   "outputs": [
    {
     "name": "stdout",
     "output_type": "stream",
     "text": [
      "57911131581012\n",
      "\n",
      "4\n",
      "10\n",
      "18\n",
      "28\n",
      "40\n",
      "54\n",
      "7\n",
      "16\n",
      "27\n",
      "\n",
      "\n"
     ]
    }
   ],
   "source": [
    "import numpy as np\n",
    "\n",
    "a = np.array([[1,2,3],[4,5,6],[7,8,9]])\n",
    "b = np.array([[4,5,6],[7,8,9],[1,2,3]])\n",
    "\n",
    "add = a + b\n",
    "mul = a * b\n",
    "\n",
    "for i in np.nditer(add):\n",
    "    print(i, end='')\n",
    "print(\"\\n\")\n",
    "\n",
    "for j in np.nditer(mul):\n",
    "    print(j)\n",
    "print(\"\\n\")"
   ]
  },
  {
   "cell_type": "code",
   "execution_count": null,
   "id": "2255d370",
   "metadata": {},
   "outputs": [],
   "source": []
  }
 ],
 "metadata": {
  "kernelspec": {
   "display_name": "Python 3 (ipykernel)",
   "language": "python",
   "name": "python3"
  },
  "language_info": {
   "codemirror_mode": {
    "name": "ipython",
    "version": 3
   },
   "file_extension": ".py",
   "mimetype": "text/x-python",
   "name": "python",
   "nbconvert_exporter": "python",
   "pygments_lexer": "ipython3",
   "version": "3.11.5"
  }
 },
 "nbformat": 4,
 "nbformat_minor": 5
}
