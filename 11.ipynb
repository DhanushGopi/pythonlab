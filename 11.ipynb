{
 "cells": [
  {
   "cell_type": "markdown",
   "id": "9daf1373",
   "metadata": {},
   "source": [
    "A. Write a Python Code to create a TUPLE T of five colors.\n",
    "• Justify tuple is an immutable data structure\n",
    "• Print individual elements of tuple T\n",
    "• Create two tuples with T1 as colors starting with “b” and others in T2\n",
    "• Check if “orange” is in T or not.\n",
    "• Can tuple allow duplicates?"
   ]
  },
  {
   "cell_type": "code",
   "execution_count": 10,
   "id": "b8ad4992",
   "metadata": {},
   "outputs": [],
   "source": [
    "t = (\"red\", \"blue\", \"green\", \"yellow\", \"purple\")"
   ]
  },
  {
   "cell_type": "code",
   "execution_count": 14,
   "id": "5ed41aed",
   "metadata": {},
   "outputs": [
    {
     "ename": "TypeError",
     "evalue": "'tuple' object does not support item assignment",
     "output_type": "error",
     "traceback": [
      "\u001b[1;31m---------------------------------------------------------------------------\u001b[0m",
      "\u001b[1;31mTypeError\u001b[0m                                 Traceback (most recent call last)",
      "Cell \u001b[1;32mIn[14], line 1\u001b[0m\n\u001b[1;32m----> 1\u001b[0m t[\u001b[38;5;241m2\u001b[39m] \u001b[38;5;241m=\u001b[39m \u001b[38;5;124m\"\u001b[39m\u001b[38;5;124mblack\u001b[39m\u001b[38;5;124m\"\u001b[39m\n",
      "\u001b[1;31mTypeError\u001b[0m: 'tuple' object does not support item assignment"
     ]
    }
   ],
   "source": [
    "t[2] = \"black\" #example of immutable"
   ]
  },
  {
   "cell_type": "code",
   "execution_count": 15,
   "id": "6c3e83a7",
   "metadata": {},
   "outputs": [
    {
     "name": "stdout",
     "output_type": "stream",
     "text": [
      "red\n",
      "blue\n",
      "green\n",
      "yellow\n",
      "purple\n"
     ]
    }
   ],
   "source": [
    "for i in T:\n",
    "    print(i)"
   ]
  },
  {
   "cell_type": "code",
   "execution_count": 11,
   "id": "2a85c363",
   "metadata": {},
   "outputs": [
    {
     "name": "stdout",
     "output_type": "stream",
     "text": [
      "('blue',) ('red', 'green', 'yellow', 'purple')\n"
     ]
    }
   ],
   "source": [
    "t1 = tuple(filter(lambda color: color.startswith(\"b\"),t))\n",
    "t2 = tuple(filter(lambda color: not color.startswith(\"b\"),t))\n",
    "print(t1,t2)"
   ]
  },
  {
   "cell_type": "code",
   "execution_count": 17,
   "id": "3de35b66",
   "metadata": {},
   "outputs": [
    {
     "name": "stdout",
     "output_type": "stream",
     "text": [
      "Orange is There\n"
     ]
    }
   ],
   "source": [
    "if \"orange\" in T:\n",
    "    print(\"Orange is There\")\n",
    "else:\n",
    "    print(\"orange is not here\")"
   ]
  },
  {
   "cell_type": "code",
   "execution_count": 19,
   "id": "3ab528eb",
   "metadata": {},
   "outputs": [
    {
     "name": "stdout",
     "output_type": "stream",
     "text": [
      "Duplicate in Tuple ('red', 'red', 'black', 'pink')\n"
     ]
    }
   ],
   "source": [
    "tduplicate = (\"red\",\"red\",\"black\",\"pink\")\n",
    "print(\"Duplicate in Tuple\", tduplicate)"
   ]
  }
 ],
 "metadata": {
  "kernelspec": {
   "display_name": "Python 3 (ipykernel)",
   "language": "python",
   "name": "python3"
  },
  "language_info": {
   "codemirror_mode": {
    "name": "ipython",
    "version": 3
   },
   "file_extension": ".py",
   "mimetype": "text/x-python",
   "name": "python",
   "nbconvert_exporter": "python",
   "pygments_lexer": "ipython3",
   "version": "3.11.5"
  }
 },
 "nbformat": 4,
 "nbformat_minor": 5
}
