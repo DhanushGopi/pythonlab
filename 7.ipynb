{
 "cells": [
  {
   "cell_type": "markdown",
   "id": "34aa3eb8",
   "metadata": {},
   "source": [
    "Write a Python Code to create a file named “Employee.dat” with empnum and empname. Insert every employee details line by line and copy the contents to another file “Emp.dat” in reverse order (ie) from last line towards first line. "
   ]
  },
  {
   "cell_type": "code",
   "execution_count": 4,
   "id": "e09493e8",
   "metadata": {},
   "outputs": [
    {
     "name": "stdout",
     "output_type": "stream",
     "text": [
      "Enter the number15\n",
      "Enter the namedg\n",
      "Enter the number16\n",
      "Enter the namedd\n"
     ]
    }
   ],
   "source": [
    "f = open(\"Employee.dat\",'a')\n",
    "\n",
    "for i in range(2):\n",
    "    empnum = input(\"Enter the number\")\n",
    "    empname = input(\"Enter the name\")\n",
    "    row = empnum + \",\" + empname + \"\\n\"\n",
    "    f.write(row)\n",
    "f.close()"
   ]
  },
  {
   "cell_type": "code",
   "execution_count": 5,
   "id": "65d758d5",
   "metadata": {},
   "outputs": [
    {
     "name": "stdout",
     "output_type": "stream",
     "text": [
      "['15,dg\\n', '16,dd\\n']\n"
     ]
    }
   ],
   "source": [
    "with open(\"Employee.dat\",'r') as file:\n",
    "    lines = file.readlines()\n",
    "    print(lines)"
   ]
  },
  {
   "cell_type": "code",
   "execution_count": 7,
   "id": "00de34b6",
   "metadata": {},
   "outputs": [],
   "source": [
    "with open (\"emp.dat\",'w') as file:\n",
    "    file.writelines(reversed(lines))"
   ]
  },
  {
   "cell_type": "code",
   "execution_count": 8,
   "id": "5fd4e4a3",
   "metadata": {},
   "outputs": [
    {
     "name": "stdout",
     "output_type": "stream",
     "text": [
      "['16,dd\\n', '15,dg\\n']\n"
     ]
    }
   ],
   "source": [
    "with open (\"emp.dat\",'r') as file:\n",
    "    fr = file.readlines()\n",
    "    print(fr)"
   ]
  },
  {
   "cell_type": "code",
   "execution_count": null,
   "id": "32cf2f70",
   "metadata": {},
   "outputs": [],
   "source": []
  }
 ],
 "metadata": {
  "kernelspec": {
   "display_name": "Python 3 (ipykernel)",
   "language": "python",
   "name": "python3"
  },
  "language_info": {
   "codemirror_mode": {
    "name": "ipython",
    "version": 3
   },
   "file_extension": ".py",
   "mimetype": "text/x-python",
   "name": "python",
   "nbconvert_exporter": "python",
   "pygments_lexer": "ipython3",
   "version": "3.11.5"
  }
 },
 "nbformat": 4,
 "nbformat_minor": 5
}
