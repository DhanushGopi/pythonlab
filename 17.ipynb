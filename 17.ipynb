{
 "cells": [
  {
   "cell_type": "markdown",
   "id": "f375eeaf",
   "metadata": {},
   "source": [
    "Write a Python Code to illustrate the working of class, object, class variable, object variable, constructor, destructor and member functions."
   ]
  },
  {
   "cell_type": "code",
   "execution_count": 1,
   "id": "f6e6dbb4",
   "metadata": {},
   "outputs": [],
   "source": [
    "class bike:\n",
    "    total = 0\n",
    "    def __init__(self,brand,model):\n",
    "        bike.total+=1\n",
    "        self.brand = brand\n",
    "        self.model = model\n",
    "    def showbike(self):\n",
    "        print(\" The Brand \",self.brand, \"\\n The Model\", self.model)\n",
    "    \n",
    "    def __del__(self):\n",
    "        bike.total-=1\n",
    "        print(\"The Deleted \", self.brand, self.model)\n"
   ]
  },
  {
   "cell_type": "code",
   "execution_count": 2,
   "id": "5f6b15d4",
   "metadata": {},
   "outputs": [],
   "source": [
    "bike1 = bike(\"RE\",\"GT650\")\n",
    "bike2 = bike(\"YAMAHA\", \"RX100\")"
   ]
  },
  {
   "cell_type": "code",
   "execution_count": 3,
   "id": "45febb03",
   "metadata": {},
   "outputs": [
    {
     "name": "stdout",
     "output_type": "stream",
     "text": [
      " The Brand  RE \n",
      " The Model GT650\n"
     ]
    }
   ],
   "source": [
    "bike1.showbike()"
   ]
  },
  {
   "cell_type": "code",
   "execution_count": 5,
   "id": "d07347d2",
   "metadata": {},
   "outputs": [
    {
     "name": "stdout",
     "output_type": "stream",
     "text": [
      "The Deleted  YAMAHA RX100\n"
     ]
    }
   ],
   "source": [
    "del bike2"
   ]
  },
  {
   "cell_type": "code",
   "execution_count": 7,
   "id": "a125844c",
   "metadata": {},
   "outputs": [
    {
     "data": {
      "text/plain": [
       "1"
      ]
     },
     "execution_count": 7,
     "metadata": {},
     "output_type": "execute_result"
    }
   ],
   "source": [
    "bike.total"
   ]
  },
  {
   "cell_type": "code",
   "execution_count": 6,
   "id": "b718a9cf",
   "metadata": {},
   "outputs": [
    {
     "name": "stdout",
     "output_type": "stream",
     "text": [
      " The Brand  RE \n",
      " The Model GT650\n"
     ]
    }
   ],
   "source": [
    "bike1.showbike()"
   ]
  },
  {
   "cell_type": "code",
   "execution_count": null,
   "id": "c5e8045a",
   "metadata": {},
   "outputs": [],
   "source": [
    "|"
   ]
  }
 ],
 "metadata": {
  "kernelspec": {
   "display_name": "Python 3 (ipykernel)",
   "language": "python",
   "name": "python3"
  },
  "language_info": {
   "codemirror_mode": {
    "name": "ipython",
    "version": 3
   },
   "file_extension": ".py",
   "mimetype": "text/x-python",
   "name": "python",
   "nbconvert_exporter": "python",
   "pygments_lexer": "ipython3",
   "version": "3.11.5"
  }
 },
 "nbformat": 4,
 "nbformat_minor": 5
}
