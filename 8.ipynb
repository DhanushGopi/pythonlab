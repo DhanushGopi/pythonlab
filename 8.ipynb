{
 "cells": [
  {
   "cell_type": "markdown",
   "id": "ceac290d",
   "metadata": {},
   "source": [
    "Create a class called Sample with an object variable “var”. Write a Python Code to perform Arithmetic Operator Overloading for subtraction and multiplication, Relational Operator Overloading for less than, greater than and equal to and Bitwise Operator Overloading for bitwise and , or."
   ]
  },
  {
   "cell_type": "code",
   "execution_count": 30,
   "id": "fffd3cb3",
   "metadata": {},
   "outputs": [],
   "source": [
    "class Sample:\n",
    "    def __init__(self, var):\n",
    "        self.var = var\n",
    "    #Arithmetic Operation\n",
    "    def __sub__(self,other):\n",
    "        return (\"The Sub \",self.var-other.var)\n",
    "    \n",
    "    def __mul__(self,other):\n",
    "        return (\"The Mult \", self.var * other.var)\n",
    "    \n",
    "    #comparison operator\n",
    "    def __lt__(self,other):\n",
    "        return(\"The Less than \", self.var < other.var)\n",
    "    \n",
    "    def __gt__(self, other):\n",
    "        return(\"The Greater Than \", self.var > other.var)\n",
    "    \n",
    "    def __eq__(self,other):\n",
    "        return(\"The Equal \", self.var == other.var)\n",
    "    \n",
    "    #Bitwise Operator\n",
    "    def __and__(self,other):\n",
    "        return(\"The AND \", self.var & other.var)\n",
    "    def __or__(self,other):\n",
    "        return(\"The OR \",self.var | other.var)"
   ]
  },
  {
   "cell_type": "code",
   "execution_count": 31,
   "id": "b649d314",
   "metadata": {},
   "outputs": [
    {
     "name": "stdout",
     "output_type": "stream",
     "text": [
      "('The Sub ', 2)\n",
      "('The Mult ', 15)\n",
      "('The Greater Than ', True)\n",
      "('The Less than ', False)\n",
      "('The Equal ', False)\n",
      "('The AND ', 1)\n",
      "('The OR ', 7)\n"
     ]
    }
   ],
   "source": [
    "obj1 = Sample(5)\n",
    "obj2 = Sample(3)\n",
    "\n",
    "print(obj1 - obj2)\n",
    "print(obj1 * obj2)\n",
    "print(obj1 > obj2)\n",
    "print(obj1 < obj2)\n",
    "print(obj1 == obj2)\n",
    "print(obj1 & obj2)\n",
    "print(obj1 | obj2)"
   ]
  },
  {
   "cell_type": "code",
   "execution_count": null,
   "id": "1351aeb4",
   "metadata": {},
   "outputs": [],
   "source": []
  }
 ],
 "metadata": {
  "kernelspec": {
   "display_name": "Python 3 (ipykernel)",
   "language": "python",
   "name": "python3"
  },
  "language_info": {
   "codemirror_mode": {
    "name": "ipython",
    "version": 3
   },
   "file_extension": ".py",
   "mimetype": "text/x-python",
   "name": "python",
   "nbconvert_exporter": "python",
   "pygments_lexer": "ipython3",
   "version": "3.11.5"
  }
 },
 "nbformat": 4,
 "nbformat_minor": 5
}
