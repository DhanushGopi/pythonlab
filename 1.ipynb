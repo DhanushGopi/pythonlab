{
 "cells": [
  {
   "cell_type": "markdown",
   "id": "834abf48",
   "metadata": {},
   "source": [
    "Write a Python Code to show the working of Arithmetic Operators, Logical Operators and Bitwise Operators in Python. Define a user-defined exception named “ZeroError” to validate the inputs as non-zero."
   ]
  },
  {
   "cell_type": "code",
   "execution_count": 5,
   "id": "40362e9b",
   "metadata": {},
   "outputs": [],
   "source": [
    "def non_zero():\n",
    "    while True:\n",
    "        try:\n",
    "            value = int(input(\"Enter the Number\"))\n",
    "            if value == 0:\n",
    "                raise ValueError(\"Input cannot be zero\")\n",
    "            return value\n",
    "        except ValueError:\n",
    "            print(\"Invalid Input\")"
   ]
  },
  {
   "cell_type": "code",
   "execution_count": 7,
   "id": "bd9cb60a",
   "metadata": {},
   "outputs": [
    {
     "name": "stdout",
     "output_type": "stream",
     "text": [
      "Enter the Number0\n",
      "Invalid Input\n",
      "Enter the Number9\n"
     ]
    },
    {
     "data": {
      "text/plain": [
       "9"
      ]
     },
     "execution_count": 7,
     "metadata": {},
     "output_type": "execute_result"
    }
   ],
   "source": [
    "non_zero()\n"
   ]
  },
  {
   "cell_type": "code",
   "execution_count": 24,
   "id": "0136b6aa",
   "metadata": {},
   "outputs": [],
   "source": [
    "def opss():\n",
    "    num1 = non_zero()\n",
    "    num2 = non_zero()\n",
    "    \n",
    "    print(\"Arithemetic Operators\")\n",
    "    print(\"\\n Sum :\", num1 + num2)\n",
    "    print(\"\\n Difference : \", num1 - num2)\n",
    "    print(\"\\n Multiplication : \", num1* num2)\n",
    "    print(\"\\n Division : \" , num1 / num2)\n",
    "    print(\"\\n Floor Division : \" , num1 // num2)\n",
    "    print(\"\\n Power : \", num1 ** num2)\n",
    "    \n",
    "    print(\"\\nLogical Operator\")\n",
    "    print(\"\\n AND : \",num1 > num2 and num1 < num2)\n",
    "    print(\"\\n OR : \",num1 > num2 or num1 < num2)\n",
    "    print(\"\\n NOT : \",not(num1 > num2 and num1 < num2))\n",
    "    \n",
    "    print(\"\\nBitwise Operator\")\n",
    "    print(\"\\n AND : \", num1 & num2)\n",
    "    print(\"\\n OR : \", num1 | num2)\n",
    "    print(\"\\n NOT : \", ~num1)\n",
    "    "
   ]
  },
  {
   "cell_type": "code",
   "execution_count": 25,
   "id": "b2859498",
   "metadata": {},
   "outputs": [
    {
     "name": "stdout",
     "output_type": "stream",
     "text": [
      "Enter the Number4\n",
      "Enter the Number2\n",
      "Arithemetic Operators\n",
      "\n",
      " Sum : 6\n",
      "\n",
      " Difference :  2\n",
      "\n",
      " Multiplication :  8\n",
      "\n",
      " Division :  2.0\n",
      "\n",
      " Floor Division :  2\n",
      "\n",
      " Power :  16\n",
      "\n",
      "Logical Operator\n",
      "\n",
      " AND :  False\n",
      "\n",
      " OR :  True\n",
      "\n",
      " NOT :  True\n",
      "\n",
      "Bitwise Operator\n",
      "\n",
      " AND :  0\n",
      "\n",
      " OR :  6\n",
      "\n",
      " NOT :  -5\n"
     ]
    }
   ],
   "source": [
    "\n",
    "opss()"
   ]
  },
  {
   "cell_type": "code",
   "execution_count": null,
   "id": "7ca767d5",
   "metadata": {},
   "outputs": [],
   "source": []
  }
 ],
 "metadata": {
  "kernelspec": {
   "display_name": "Python 3 (ipykernel)",
   "language": "python",
   "name": "python3"
  },
  "language_info": {
   "codemirror_mode": {
    "name": "ipython",
    "version": 3
   },
   "file_extension": ".py",
   "mimetype": "text/x-python",
   "name": "python",
   "nbconvert_exporter": "python",
   "pygments_lexer": "ipython3",
   "version": "3.11.5"
  }
 },
 "nbformat": 4,
 "nbformat_minor": 5
}
