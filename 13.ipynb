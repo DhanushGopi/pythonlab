{
 "cells": [
  {
   "cell_type": "markdown",
   "id": "8df3ea23",
   "metadata": {},
   "source": [
    "Write a Python Code to create a file named “Employee.dat” with empnum and empname. \n",
    "\n",
    "Insert every employee details line by line and copy the contents to another file “Emp.dat” in reverse order (ie) from last line towards first line. "
   ]
  },
  {
   "cell_type": "code",
   "execution_count": 1,
   "id": "44c2f520",
   "metadata": {},
   "outputs": [],
   "source": [
    "def calculate_amount(unit_price, quantity):\n",
    "    return unit_price * quantity\n"
   ]
  },
  {
   "cell_type": "code",
   "execution_count": 2,
   "id": "dd1bd3ca",
   "metadata": {},
   "outputs": [
    {
     "name": "stdout",
     "output_type": "stream",
     "text": [
      "Enter product number: 01\n",
      "Enter product name: happy\n",
      "Enter unit price: 1500\n",
      "Enter quantity: 5\n",
      "Enter product number: 02\n",
      "Enter product name: custom art\n",
      "Enter unit price: 500\n",
      "Enter quantity: 5\n"
     ]
    }
   ],
   "source": [
    "# Open the file in write mode\n",
    "with open(\"Inventory.txt\", \"w\") as file:\n",
    "    # Loop to input details for five products\n",
    "    for i in range(2):\n",
    "        # Input product details\n",
    "        pnum = input(\"Enter product number: \")\n",
    "        pname = input(\"Enter product name: \")\n",
    "        unit_price = float(input(\"Enter unit price: \"))\n",
    "        quantity = int(input(\"Enter quantity: \"))\n",
    "           # Calculate the amount\n",
    "        amount = calculate_amount(unit_price, quantity)\n",
    "        \n",
    "        # Write product details and amount to the file\n",
    "        file.write(f\"{pnum},{pname},{unit_price},{quantity},{amount}\\n\")\n"
   ]
  },
  {
   "cell_type": "code",
   "execution_count": 3,
   "id": "8e3449ad",
   "metadata": {},
   "outputs": [
    {
     "name": "stdout",
     "output_type": "stream",
     "text": [
      "Contents of Inventory.txt:\n",
      "01,happy,1500.0,5,7500.0\n",
      "02,custom art,500.0,5,2500.0\n"
     ]
    }
   ],
   "source": [
    "# Open the file again to read and display its contents\n",
    "with open(\"Inventory.txt\", \"r\") as file:\n",
    "    print(\"Contents of Inventory.txt:\")\n",
    "    for line in file:\n",
    "        print(line.strip())\n"
   ]
  },
  {
   "cell_type": "code",
   "execution_count": null,
   "id": "d8c9ba4c",
   "metadata": {},
   "outputs": [],
   "source": []
  }
 ],
 "metadata": {
  "kernelspec": {
   "display_name": "Python 3 (ipykernel)",
   "language": "python",
   "name": "python3"
  },
  "language_info": {
   "codemirror_mode": {
    "name": "ipython",
    "version": 3
   },
   "file_extension": ".py",
   "mimetype": "text/x-python",
   "name": "python",
   "nbconvert_exporter": "python",
   "pygments_lexer": "ipython3",
   "version": "3.11.5"
  }
 },
 "nbformat": 4,
 "nbformat_minor": 5
}
