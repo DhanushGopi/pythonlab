{
 "cells": [
  {
   "cell_type": "markdown",
   "id": "8df3ea23",
   "metadata": {},
   "source": [
    "Write a Python Code to create a file named “Inventory.txt” with pnum, pname, unitprice and amount;\n",
    "calculate the amount and store them in the file for FIVE products and display the written contents."
   ]
  },
  {
   "cell_type": "code",
   "execution_count": 10,
   "id": "d8c9ba4c",
   "metadata": {},
   "outputs": [
    {
     "name": "stdout",
     "output_type": "stream",
     "text": [
      "Enter the number15\n",
      "Enter the namedg\n",
      "Enter the name500\n",
      "Enter the Quantity5\n",
      "Enter the number23\n",
      "Enter the namekg\n",
      "Enter the name1000\n",
      "Enter the Quantity5\n"
     ]
    }
   ],
   "source": [
    "with open(\"Invetory1.txt\",'w') as file:\n",
    "    for i in range(2):\n",
    "        pnum = int(input(\"Enter the number\"))\n",
    "        pname = input(\"Enter the name\")\n",
    "        unitprice = int(input(\"Enter the name\"))\n",
    "        quantity = int(input(\"Enter the Quantity\"))\n",
    "        amount = unitprice * quantity\n",
    "        \n",
    "        file.write(f\"{pnum},{pname},{unitprice},{quantity},{amount}\\n\")"
   ]
  },
  {
   "cell_type": "code",
   "execution_count": 11,
   "id": "7b18d8fb",
   "metadata": {},
   "outputs": [
    {
     "name": "stdout",
     "output_type": "stream",
     "text": [
      "15,dg,500,5,2500\n",
      "\n",
      "23,kg,1000,5,5000\n",
      "\n"
     ]
    }
   ],
   "source": [
    "with open(\"Invetory1.txt\",'r') as file:\n",
    "    for line in file:\n",
    "        print(line)"
   ]
  },
  {
   "cell_type": "code",
   "execution_count": null,
   "id": "b91570f3",
   "metadata": {},
   "outputs": [],
   "source": []
  }
 ],
 "metadata": {
  "kernelspec": {
   "display_name": "Python 3 (ipykernel)",
   "language": "python",
   "name": "python3"
  },
  "language_info": {
   "codemirror_mode": {
    "name": "ipython",
    "version": 3
   },
   "file_extension": ".py",
   "mimetype": "text/x-python",
   "name": "python",
   "nbconvert_exporter": "python",
   "pygments_lexer": "ipython3",
   "version": "3.11.5"
  }
 },
 "nbformat": 4,
 "nbformat_minor": 5
}
